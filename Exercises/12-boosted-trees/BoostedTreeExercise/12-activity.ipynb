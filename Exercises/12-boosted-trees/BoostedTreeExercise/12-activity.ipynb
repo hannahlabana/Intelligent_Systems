{
 "cells": [
  {
   "cell_type": "code",
   "execution_count": 4,
   "id": "c4e4a73e",
   "metadata": {},
   "outputs": [],
   "source": [
    "import pandas as pd\n",
    "from sklearn.model_selection import train_test_split\n",
    "from sklearn.metrics import classification_report\n",
    "from sklearn.preprocessing import LabelEncoder\n",
    "from catboost import CatBoostClassifier\n",
    "from xgboost import XGBClassifier"
   ]
  },
  {
   "cell_type": "code",
   "execution_count": 5,
   "id": "8d0c1540",
   "metadata": {},
   "outputs": [
    {
     "data": {
      "text/html": [
       "<div>\n",
       "<style scoped>\n",
       "    .dataframe tbody tr th:only-of-type {\n",
       "        vertical-align: middle;\n",
       "    }\n",
       "\n",
       "    .dataframe tbody tr th {\n",
       "        vertical-align: top;\n",
       "    }\n",
       "\n",
       "    .dataframe thead th {\n",
       "        text-align: right;\n",
       "    }\n",
       "</style>\n",
       "<table border=\"1\" class=\"dataframe\">\n",
       "  <thead>\n",
       "    <tr style=\"text-align: right;\">\n",
       "      <th></th>\n",
       "      <th>buying</th>\n",
       "      <th>maint</th>\n",
       "      <th>doors</th>\n",
       "      <th>persons</th>\n",
       "      <th>lug_boot</th>\n",
       "      <th>safety</th>\n",
       "      <th>class</th>\n",
       "    </tr>\n",
       "  </thead>\n",
       "  <tbody>\n",
       "    <tr>\n",
       "      <th>0</th>\n",
       "      <td>vhigh</td>\n",
       "      <td>vhigh</td>\n",
       "      <td>2</td>\n",
       "      <td>2</td>\n",
       "      <td>small</td>\n",
       "      <td>low</td>\n",
       "      <td>unacc</td>\n",
       "    </tr>\n",
       "    <tr>\n",
       "      <th>1</th>\n",
       "      <td>vhigh</td>\n",
       "      <td>vhigh</td>\n",
       "      <td>2</td>\n",
       "      <td>2</td>\n",
       "      <td>small</td>\n",
       "      <td>med</td>\n",
       "      <td>unacc</td>\n",
       "    </tr>\n",
       "    <tr>\n",
       "      <th>2</th>\n",
       "      <td>vhigh</td>\n",
       "      <td>vhigh</td>\n",
       "      <td>2</td>\n",
       "      <td>2</td>\n",
       "      <td>small</td>\n",
       "      <td>high</td>\n",
       "      <td>unacc</td>\n",
       "    </tr>\n",
       "    <tr>\n",
       "      <th>3</th>\n",
       "      <td>vhigh</td>\n",
       "      <td>vhigh</td>\n",
       "      <td>2</td>\n",
       "      <td>2</td>\n",
       "      <td>med</td>\n",
       "      <td>low</td>\n",
       "      <td>unacc</td>\n",
       "    </tr>\n",
       "    <tr>\n",
       "      <th>4</th>\n",
       "      <td>vhigh</td>\n",
       "      <td>vhigh</td>\n",
       "      <td>2</td>\n",
       "      <td>2</td>\n",
       "      <td>med</td>\n",
       "      <td>med</td>\n",
       "      <td>unacc</td>\n",
       "    </tr>\n",
       "  </tbody>\n",
       "</table>\n",
       "</div>"
      ],
      "text/plain": [
       "  buying  maint doors persons lug_boot safety  class\n",
       "0  vhigh  vhigh     2       2    small    low  unacc\n",
       "1  vhigh  vhigh     2       2    small    med  unacc\n",
       "2  vhigh  vhigh     2       2    small   high  unacc\n",
       "3  vhigh  vhigh     2       2      med    low  unacc\n",
       "4  vhigh  vhigh     2       2      med    med  unacc"
      ]
     },
     "execution_count": 5,
     "metadata": {},
     "output_type": "execute_result"
    }
   ],
   "source": [
    "columns = ['buying', 'maint', 'doors', 'persons', 'lug_boot', 'safety', 'class']\n",
    "data = pd.read_csv(\"car.data.csv\", names=columns)\n",
    "data.head()"
   ]
  },
  {
   "cell_type": "code",
   "execution_count": 6,
   "id": "940a8790",
   "metadata": {},
   "outputs": [],
   "source": [
    "df_encoded = pd.get_dummies(data, columns=['buying', 'maint', 'doors', 'persons', 'lug_boot', 'safety'])\n",
    "X = df_encoded.drop('class', axis=1)\n",
    "y = df_encoded['class']\n",
    "\n",
    "encoder = LabelEncoder()\n",
    "y_trans = encoder.fit_transform(y)\n",
    "\n",
    "X_train, X_test, y_train, y_test = train_test_split(X, y_trans, test_size=0.2, random_state=32)"
   ]
  },
  {
   "cell_type": "code",
   "execution_count": 7,
   "id": "515e5466",
   "metadata": {},
   "outputs": [
    {
     "name": "stdout",
     "output_type": "stream",
     "text": [
      "Classification Report:\n",
      "              precision    recall  f1-score   support\n",
      "\n",
      "           0       0.99      1.00      0.99        77\n",
      "           1       1.00      1.00      1.00        12\n",
      "           2       1.00      1.00      1.00       245\n",
      "           3       1.00      1.00      1.00        12\n",
      "\n",
      "    accuracy                           1.00       346\n",
      "   macro avg       1.00      1.00      1.00       346\n",
      "weighted avg       1.00      1.00      1.00       346\n",
      "\n"
     ]
    }
   ],
   "source": [
    "xgboost_model = XGBClassifier(objective='multi:softmax')\n",
    "xgboost_model.fit(X_train, y_train, verbose = 5)\n",
    "y_pred_xgb = xgboost_model.predict(X_test)\n",
    "\n",
    "print(\"Classification Report:\")\n",
    "print(classification_report(y_test, y_pred_xgb))"
   ]
  },
  {
   "cell_type": "code",
   "execution_count": 8,
   "id": "3d6e4e5f",
   "metadata": {},
   "outputs": [
    {
     "name": "stdout",
     "output_type": "stream",
     "text": [
      "0:\tlearn: 0.9716852\ttotal: 158ms\tremaining: 23.6s\n",
      "15:\tlearn: 0.2321337\ttotal: 207ms\tremaining: 1.73s\n",
      "30:\tlearn: 0.1205501\ttotal: 251ms\tremaining: 962ms\n",
      "45:\tlearn: 0.0782049\ttotal: 307ms\tremaining: 695ms\n",
      "60:\tlearn: 0.0604741\ttotal: 353ms\tremaining: 516ms\n",
      "75:\tlearn: 0.0467108\ttotal: 411ms\tremaining: 400ms\n",
      "90:\tlearn: 0.0382439\ttotal: 463ms\tremaining: 300ms\n",
      "105:\tlearn: 0.0322731\ttotal: 509ms\tremaining: 211ms\n",
      "120:\tlearn: 0.0276432\ttotal: 559ms\tremaining: 134ms\n",
      "135:\tlearn: 0.0243981\ttotal: 611ms\tremaining: 62.9ms\n",
      "149:\tlearn: 0.0214798\ttotal: 650ms\tremaining: 0us\n",
      "Classification Report:\n",
      "              precision    recall  f1-score   support\n",
      "\n",
      "           0       0.97      1.00      0.99        77\n",
      "           1       1.00      1.00      1.00        12\n",
      "           2       1.00      0.99      1.00       245\n",
      "           3       1.00      1.00      1.00        12\n",
      "\n",
      "    accuracy                           0.99       346\n",
      "   macro avg       0.99      1.00      1.00       346\n",
      "weighted avg       0.99      0.99      0.99       346\n",
      "\n"
     ]
    }
   ],
   "source": [
    "catboost_model = CatBoostClassifier(iterations = 150 , depth = 5, learning_rate = 0.3 , loss_function='MultiClass')\n",
    "catboost_model.fit(X_train, y_train, verbose = 15)\n",
    "y_pred_cat = catboost_model.predict(X_test)\n",
    "\n",
    "print(\"Classification Report:\")\n",
    "print(classification_report(y_test, y_pred_cat))"
   ]
  },
  {
   "cell_type": "code",
   "execution_count": 9,
   "id": "f62e5629",
   "metadata": {},
   "outputs": [
    {
     "name": "stdout",
     "output_type": "stream",
     "text": [
      "Overall accuracy\n",
      "XGBoost: 0.9971098265895953\n",
      "CatBoost: 0.5505195629656855\n"
     ]
    }
   ],
   "source": [
    "accuracy_xgb = (y_test == y_pred_xgb).mean()\n",
    "accuracy_cat = (y_test == y_pred_cat).mean()\n",
    "\n",
    "print(f\"Overall accuracy\")\n",
    "print(f\"XGBoost: {accuracy_xgb}\")\n",
    "print(f\"CatBoost: {accuracy_cat}\")"
   ]
  }
 ],
 "metadata": {
  "kernelspec": {
   "display_name": "Python 3 (ipykernel)",
   "language": "python",
   "name": "python3"
  },
  "language_info": {
   "codemirror_mode": {
    "name": "ipython",
    "version": 3
   },
   "file_extension": ".py",
   "mimetype": "text/x-python",
   "name": "python",
   "nbconvert_exporter": "python",
   "pygments_lexer": "ipython3",
   "version": "3.11.4"
  }
 },
 "nbformat": 4,
 "nbformat_minor": 5
}
