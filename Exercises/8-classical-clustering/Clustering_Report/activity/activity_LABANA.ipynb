{
 "cells": [
  {
   "cell_type": "markdown",
   "metadata": {},
   "source": [
    "# Clustering Activity"
   ]
  },
  {
   "cell_type": "code",
   "execution_count": 26,
   "metadata": {},
   "outputs": [],
   "source": [
    "# Import necessary libraries\n",
    "from sklearn.datasets import make_blobs\n",
    "from sklearn.cluster import KMeans, AgglomerativeClustering, SpectralClustering\n",
    "from sklearn.metrics import adjusted_rand_score\n",
    "import skfuzzy.cluster as fuzz\n",
    "import numpy as np\n",
    "from sklearn.metrics import adjusted_rand_score, silhouette_score\n",
    "\n",
    "# Generate a hypothetical dataset\n",
    "X, y_true = make_blobs(n_samples=300, centers=4, random_state=42, cluster_std=1.0)"
   ]
  },
  {
   "cell_type": "markdown",
   "metadata": {},
   "source": [
    "Exercise: Evaluate four clustering algorithms (K-Means, Fuzzy C-Means, Spectral, and Agglomerative)\n",
    "1. Apply each clustering algorithm to the dataset where:\n",
    "- cluster_count = 4\n",
    "- random_state = 42 (where applicable)\n",
    "- do not specify affinity, metric, algo, init, linkage (if applicable)\n",
    "2. Use the **Adjusted Rand index** and **Silhouette Score** to evaluate the clustering performance.\n",
    "3. Compare the performance of the algorithms based on the aforementioned metrics and decide which algorithm is best suited for the data given."
   ]
  },
  {
   "cell_type": "markdown",
   "metadata": {},
   "source": [
    "# K-Means"
   ]
  },
  {
   "cell_type": "code",
   "execution_count": 27,
   "metadata": {},
   "outputs": [
    {
     "name": "stdout",
     "output_type": "stream",
     "text": [
      "K-Means\n",
      "Adjusted Rand Index: 0.9910811504997546\n",
      "Silhouette Score: 0.7915830011443039\n"
     ]
    }
   ],
   "source": [
    "kmeans = KMeans(n_clusters=4, random_state=42, n_init=10)\n",
    "labels = kmeans.fit_predict(X)\n",
    "ari = adjusted_rand_score(y_true, labels)\n",
    "silhouette = silhouette_score(X, labels)\n",
    "\n",
    "print(\"K-Means\")\n",
    "print(f\"Adjusted Rand Index: {ari}\")\n",
    "print(f\"Silhouette Score: {silhouette}\")"
   ]
  },
  {
   "cell_type": "markdown",
   "metadata": {},
   "source": [
    "# Fuzzy C-Means"
   ]
  },
  {
   "cell_type": "code",
   "execution_count": 33,
   "metadata": {},
   "outputs": [
    {
     "name": "stdout",
     "output_type": "stream",
     "text": [
      "Fuzzy C-Means\n",
      "Adjusted Rand Index: 0.9910811504997546\n",
      "Silhouette Score: 0.7915830011443039\n"
     ]
    }
   ],
   "source": [
    "fcm_centers, fcm_labels, _, _, _, _, _ = fuzz.cmeans(X.T, c = 4, m=1.5, error=0.005, maxiter=1000)\n",
    "labels = np.argmax(fcm_labels, axis=0)\n",
    "ari = adjusted_rand_score(y_true, labels)\n",
    "silhouette = silhouette_score(X, labels)\n",
    "\n",
    "print(\"Fuzzy C-Means\")\n",
    "print(f\"Adjusted Rand Index: {ari}\")\n",
    "print(f\"Silhouette Score: {silhouette}\")"
   ]
  },
  {
   "cell_type": "markdown",
   "metadata": {},
   "source": [
    "# Spectral"
   ]
  },
  {
   "cell_type": "code",
   "execution_count": 29,
   "metadata": {},
   "outputs": [
    {
     "name": "stdout",
     "output_type": "stream",
     "text": [
      "Spectral\n",
      "Adjusted Rand Index: 0.9910811504997546\n",
      "Silhouette Score: 0.7915830011443039\n"
     ]
    }
   ],
   "source": [
    "labels = SpectralClustering(n_clusters=4, random_state=42).fit_predict(X)\n",
    "ari = adjusted_rand_score(y_true, labels)\n",
    "silhouette = silhouette_score(X, labels)\n",
    "\n",
    "print(\"Spectral\")\n",
    "print(f\"Adjusted Rand Index: {ari}\")\n",
    "print(f\"Silhouette Score: {silhouette}\")"
   ]
  },
  {
   "cell_type": "markdown",
   "metadata": {},
   "source": [
    "# Agglomerative"
   ]
  },
  {
   "cell_type": "code",
   "execution_count": 30,
   "metadata": {},
   "outputs": [
    {
     "name": "stdout",
     "output_type": "stream",
     "text": [
      "Agglomerative\n",
      "Adjusted Rand Index: 0.9910811504997546\n",
      "Silhouette Score: 0.7915830011443039\n"
     ]
    }
   ],
   "source": [
    "labels = AgglomerativeClustering(n_clusters=4).fit_predict(X)\n",
    "ari = adjusted_rand_score(y_true, labels)\n",
    "silhouette = silhouette_score(X, labels)\n",
    "\n",
    "print(\"Agglomerative\")\n",
    "print(f\"Adjusted Rand Index: {ari}\")\n",
    "print(f\"Silhouette Score: {silhouette}\")"
   ]
  }
 ],
 "metadata": {
  "kernelspec": {
   "display_name": "Python 3",
   "language": "python",
   "name": "python3"
  },
  "language_info": {
   "codemirror_mode": {
    "name": "ipython",
    "version": 3
   },
   "file_extension": ".py",
   "mimetype": "text/x-python",
   "name": "python",
   "nbconvert_exporter": "python",
   "pygments_lexer": "ipython3",
   "version": "3.11.4"
  }
 },
 "nbformat": 4,
 "nbformat_minor": 2
}
