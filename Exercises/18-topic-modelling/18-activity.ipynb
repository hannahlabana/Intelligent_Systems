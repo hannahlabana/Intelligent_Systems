{
 "cells": [
  {
   "cell_type": "code",
   "execution_count": 1,
   "metadata": {},
   "outputs": [],
   "source": [
    "import spacy\n",
    "import gensim\n",
    "from gensim import corpora\n",
    "from pprint import pprint"
   ]
  },
  {
   "cell_type": "code",
   "execution_count": 2,
   "metadata": {},
   "outputs": [
    {
     "name": "stdout",
     "output_type": "stream",
     "text": [
      "\u001b[38;5;2m✔ Download and installation successful\u001b[0m\n",
      "You can now load the package via spacy.load('en_core_web_sm')\n"
     ]
    }
   ],
   "source": [
    "# Download spaCy's English NLP model\n",
    "spacy.cli.download(\"en_core_web_sm\")\n",
    "\n",
    "# Load spaCy's English NLP model\n",
    "nlp = spacy.load('en_core_web_sm')"
   ]
  },
  {
   "cell_type": "code",
   "execution_count": 3,
   "metadata": {},
   "outputs": [],
   "source": [
    "# \n",
    "documents = [\n",
    "    \"Machine learning involves algorithms that improve automatically through experience.\",\n",
    "    \"Deep learning is a subset of machine learning based on artificial neural networks.\",\n",
    "    \"Reinforcement learning is a type of machine learning technique.\",\n",
    "    \"Supervised and unsupervised learning are two main types of machine learning.\"\n",
    "]"
   ]
  },
  {
   "cell_type": "code",
   "execution_count": 4,
   "metadata": {},
   "outputs": [],
   "source": [
    "\n",
    "def preprocess(text):\n",
    "    # Tokenize and lemmatize using spaCy\n",
    "    doc = nlp(text)\n",
    "    tokens = [token.lemma_ for token in doc if not token.is_stop and token.is_alpha]\n",
    "    return tokens\n",
    "\n",
    "# Apply preprocessing to all documents\n",
    "processed_documents = [preprocess(doc) for doc in documents]\n",
    "\n",
    "# Create a dictionary and corpus for LDA\n",
    "dictionary = corpora.Dictionary(processed_documents)\n",
    "corpus = [dictionary.doc2bow(doc) for doc in processed_documents]\n",
    "\n",
    "# Build LDA model\n",
    "lda_model = gensim.models.LdaModel(corpus, num_topics=4, id2word=dictionary, passes=20)\n",
    "\n"
   ]
  },
  {
   "cell_type": "code",
   "execution_count": 5,
   "metadata": {},
   "outputs": [
    {
     "name": "stdout",
     "output_type": "stream",
     "text": [
      "[(0,\n",
      "  '0.212*\"learning\" + 0.131*\"machine\" + 0.091*\"type\" + 0.051*\"involve\" + '\n",
      "  '0.051*\"automatically\" + 0.051*\"unsupervised\" + 0.051*\"main\" + '\n",
      "  '0.051*\"algorithm\" + 0.051*\"supervise\" + 0.051*\"improve\"'),\n",
      " (1,\n",
      "  '0.053*\"machine\" + 0.053*\"learning\" + 0.053*\"technique\" + '\n",
      "  '0.053*\"reinforcement\" + 0.053*\"improve\" + 0.053*\"experience\" + '\n",
      "  '0.053*\"involve\" + 0.053*\"automatically\" + 0.053*\"algorithm\" + '\n",
      "  '0.053*\"supervise\"'),\n",
      " (2,\n",
      "  '0.053*\"machine\" + 0.053*\"learning\" + 0.053*\"technique\" + '\n",
      "  '0.053*\"reinforcement\" + 0.053*\"experience\" + 0.053*\"algorithm\" + '\n",
      "  '0.053*\"improve\" + 0.053*\"automatically\" + 0.053*\"involve\" + '\n",
      "  '0.053*\"supervise\"'),\n",
      " (3,\n",
      "  '0.164*\"learning\" + 0.091*\"machine\" + 0.091*\"base\" + 0.091*\"artificial\" + '\n",
      "  '0.091*\"deep\" + 0.091*\"network\" + 0.091*\"neural\" + 0.091*\"subset\" + '\n",
      "  '0.018*\"reinforcement\" + 0.018*\"technique\"')]\n"
     ]
    }
   ],
   "source": [
    "pprint(lda_model.print_topics())"
   ]
  },
  {
   "cell_type": "code",
   "execution_count": 6,
   "metadata": {},
   "outputs": [
    {
     "name": "stdout",
     "output_type": "stream",
     "text": [
      "Document 1 - Topic: [(0, 0.9055359), (1, 0.03140766), (2, 0.031407688), (3, 0.0316488)]\n",
      "Document 2 - Topic: [(0, 0.025963092), (1, 0.025076207), (2, 0.025076203), (3, 0.9238846)]\n",
      "Document 3 - Topic: [(0, 0.89182305), (1, 0.035832524), (2, 0.035832524), (3, 0.03651195)]\n",
      "Document 4 - Topic: [(0, 0.90542287), (1, 0.03136699), (2, 0.03136699), (3, 0.031843163)]\n"
     ]
    }
   ],
   "source": [
    "# Assign topics to documents\n",
    "for i, doc in enumerate(processed_documents):\n",
    "    print(f\"Document {i+1} - Topic: {lda_model.get_document_topics(corpus[i])}\")"
   ]
  }
 ],
 "metadata": {
  "kernelspec": {
   "display_name": "Python 3",
   "language": "python",
   "name": "python3"
  },
  "language_info": {
   "codemirror_mode": {
    "name": "ipython",
    "version": 3
   },
   "file_extension": ".py",
   "mimetype": "text/x-python",
   "name": "python",
   "nbconvert_exporter": "python",
   "pygments_lexer": "ipython3",
   "version": "3.11.4"
  }
 },
 "nbformat": 4,
 "nbformat_minor": 2
}
