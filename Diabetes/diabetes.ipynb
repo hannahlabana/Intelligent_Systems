{
 "cells": [
  {
   "cell_type": "markdown",
   "metadata": {},
   "source": [
    "## Libraries"
   ]
  },
  {
   "cell_type": "code",
   "execution_count": 132,
   "metadata": {},
   "outputs": [],
   "source": [
    "import numpy as np\n",
    "import pandas as pd\n",
    "import tensorflow as tf"
   ]
  },
  {
   "cell_type": "markdown",
   "metadata": {},
   "source": [
    "## Part 1 - Data Preprocessing"
   ]
  },
  {
   "cell_type": "code",
   "execution_count": 133,
   "metadata": {},
   "outputs": [],
   "source": [
    "dataset = pd.read_csv('diabetes_prediction_dataset.csv')"
   ]
  },
  {
   "cell_type": "code",
   "execution_count": 134,
   "metadata": {},
   "outputs": [],
   "source": [
    "X = dataset.iloc[:, 0:-1].values\n",
    "y = dataset.iloc[:, -1].values  "
   ]
  },
  {
   "cell_type": "code",
   "execution_count": 135,
   "metadata": {},
   "outputs": [
    {
     "data": {
      "text/html": [
       "<div>\n",
       "<style scoped>\n",
       "    .dataframe tbody tr th:only-of-type {\n",
       "        vertical-align: middle;\n",
       "    }\n",
       "\n",
       "    .dataframe tbody tr th {\n",
       "        vertical-align: top;\n",
       "    }\n",
       "\n",
       "    .dataframe thead th {\n",
       "        text-align: right;\n",
       "    }\n",
       "</style>\n",
       "<table border=\"1\" class=\"dataframe\">\n",
       "  <thead>\n",
       "    <tr style=\"text-align: right;\">\n",
       "      <th></th>\n",
       "      <th>Gender</th>\n",
       "      <th>Age</th>\n",
       "      <th>Hypertension</th>\n",
       "      <th>HeartDisease</th>\n",
       "      <th>SmokingHistory</th>\n",
       "      <th>BMI</th>\n",
       "      <th>HbA1cLevel</th>\n",
       "      <th>BloodGlucoseLevel</th>\n",
       "    </tr>\n",
       "  </thead>\n",
       "  <tbody>\n",
       "    <tr>\n",
       "      <th>0</th>\n",
       "      <td>Female</td>\n",
       "      <td>80.0</td>\n",
       "      <td>0</td>\n",
       "      <td>1</td>\n",
       "      <td>never</td>\n",
       "      <td>25.19</td>\n",
       "      <td>6.6</td>\n",
       "      <td>140</td>\n",
       "    </tr>\n",
       "    <tr>\n",
       "      <th>1</th>\n",
       "      <td>Female</td>\n",
       "      <td>54.0</td>\n",
       "      <td>0</td>\n",
       "      <td>0</td>\n",
       "      <td>No Info</td>\n",
       "      <td>27.32</td>\n",
       "      <td>6.6</td>\n",
       "      <td>80</td>\n",
       "    </tr>\n",
       "    <tr>\n",
       "      <th>2</th>\n",
       "      <td>Male</td>\n",
       "      <td>28.0</td>\n",
       "      <td>0</td>\n",
       "      <td>0</td>\n",
       "      <td>never</td>\n",
       "      <td>27.32</td>\n",
       "      <td>5.7</td>\n",
       "      <td>158</td>\n",
       "    </tr>\n",
       "    <tr>\n",
       "      <th>3</th>\n",
       "      <td>Female</td>\n",
       "      <td>36.0</td>\n",
       "      <td>0</td>\n",
       "      <td>0</td>\n",
       "      <td>current</td>\n",
       "      <td>23.45</td>\n",
       "      <td>5.0</td>\n",
       "      <td>155</td>\n",
       "    </tr>\n",
       "    <tr>\n",
       "      <th>4</th>\n",
       "      <td>Male</td>\n",
       "      <td>76.0</td>\n",
       "      <td>1</td>\n",
       "      <td>1</td>\n",
       "      <td>current</td>\n",
       "      <td>20.14</td>\n",
       "      <td>4.8</td>\n",
       "      <td>155</td>\n",
       "    </tr>\n",
       "    <tr>\n",
       "      <th>...</th>\n",
       "      <td>...</td>\n",
       "      <td>...</td>\n",
       "      <td>...</td>\n",
       "      <td>...</td>\n",
       "      <td>...</td>\n",
       "      <td>...</td>\n",
       "      <td>...</td>\n",
       "      <td>...</td>\n",
       "    </tr>\n",
       "    <tr>\n",
       "      <th>99995</th>\n",
       "      <td>Female</td>\n",
       "      <td>80.0</td>\n",
       "      <td>0</td>\n",
       "      <td>0</td>\n",
       "      <td>No Info</td>\n",
       "      <td>27.32</td>\n",
       "      <td>6.2</td>\n",
       "      <td>90</td>\n",
       "    </tr>\n",
       "    <tr>\n",
       "      <th>99996</th>\n",
       "      <td>Female</td>\n",
       "      <td>2.0</td>\n",
       "      <td>0</td>\n",
       "      <td>0</td>\n",
       "      <td>No Info</td>\n",
       "      <td>17.37</td>\n",
       "      <td>6.5</td>\n",
       "      <td>100</td>\n",
       "    </tr>\n",
       "    <tr>\n",
       "      <th>99997</th>\n",
       "      <td>Male</td>\n",
       "      <td>66.0</td>\n",
       "      <td>0</td>\n",
       "      <td>0</td>\n",
       "      <td>former</td>\n",
       "      <td>27.83</td>\n",
       "      <td>5.7</td>\n",
       "      <td>155</td>\n",
       "    </tr>\n",
       "    <tr>\n",
       "      <th>99998</th>\n",
       "      <td>Female</td>\n",
       "      <td>24.0</td>\n",
       "      <td>0</td>\n",
       "      <td>0</td>\n",
       "      <td>never</td>\n",
       "      <td>35.42</td>\n",
       "      <td>4.0</td>\n",
       "      <td>100</td>\n",
       "    </tr>\n",
       "    <tr>\n",
       "      <th>99999</th>\n",
       "      <td>Female</td>\n",
       "      <td>57.0</td>\n",
       "      <td>0</td>\n",
       "      <td>0</td>\n",
       "      <td>current</td>\n",
       "      <td>22.43</td>\n",
       "      <td>6.6</td>\n",
       "      <td>90</td>\n",
       "    </tr>\n",
       "  </tbody>\n",
       "</table>\n",
       "<p>100000 rows × 8 columns</p>\n",
       "</div>"
      ],
      "text/plain": [
       "       Gender   Age Hypertension HeartDisease SmokingHistory    BMI  \\\n",
       "0      Female  80.0            0            1          never  25.19   \n",
       "1      Female  54.0            0            0        No Info  27.32   \n",
       "2        Male  28.0            0            0          never  27.32   \n",
       "3      Female  36.0            0            0        current  23.45   \n",
       "4        Male  76.0            1            1        current  20.14   \n",
       "...       ...   ...          ...          ...            ...    ...   \n",
       "99995  Female  80.0            0            0        No Info  27.32   \n",
       "99996  Female   2.0            0            0        No Info  17.37   \n",
       "99997    Male  66.0            0            0         former  27.83   \n",
       "99998  Female  24.0            0            0          never  35.42   \n",
       "99999  Female  57.0            0            0        current  22.43   \n",
       "\n",
       "      HbA1cLevel BloodGlucoseLevel  \n",
       "0            6.6               140  \n",
       "1            6.6                80  \n",
       "2            5.7               158  \n",
       "3            5.0               155  \n",
       "4            4.8               155  \n",
       "...          ...               ...  \n",
       "99995        6.2                90  \n",
       "99996        6.5               100  \n",
       "99997        5.7               155  \n",
       "99998        4.0               100  \n",
       "99999        6.6                90  \n",
       "\n",
       "[100000 rows x 8 columns]"
      ]
     },
     "execution_count": 135,
     "metadata": {},
     "output_type": "execute_result"
    }
   ],
   "source": [
    "pd.DataFrame(X, columns = [\"Gender\", \"Age\", \"Hypertension\", \"HeartDisease\", \"SmokingHistory\", \"BMI\", \"HbA1cLevel\", \"BloodGlucoseLevel\"])"
   ]
  },
  {
   "cell_type": "code",
   "execution_count": 136,
   "metadata": {},
   "outputs": [
    {
     "data": {
      "text/html": [
       "<div>\n",
       "<style scoped>\n",
       "    .dataframe tbody tr th:only-of-type {\n",
       "        vertical-align: middle;\n",
       "    }\n",
       "\n",
       "    .dataframe tbody tr th {\n",
       "        vertical-align: top;\n",
       "    }\n",
       "\n",
       "    .dataframe thead th {\n",
       "        text-align: right;\n",
       "    }\n",
       "</style>\n",
       "<table border=\"1\" class=\"dataframe\">\n",
       "  <thead>\n",
       "    <tr style=\"text-align: right;\">\n",
       "      <th></th>\n",
       "      <th>Diabetes</th>\n",
       "    </tr>\n",
       "  </thead>\n",
       "  <tbody>\n",
       "    <tr>\n",
       "      <th>0</th>\n",
       "      <td>0</td>\n",
       "    </tr>\n",
       "    <tr>\n",
       "      <th>1</th>\n",
       "      <td>0</td>\n",
       "    </tr>\n",
       "    <tr>\n",
       "      <th>2</th>\n",
       "      <td>0</td>\n",
       "    </tr>\n",
       "    <tr>\n",
       "      <th>3</th>\n",
       "      <td>0</td>\n",
       "    </tr>\n",
       "    <tr>\n",
       "      <th>4</th>\n",
       "      <td>0</td>\n",
       "    </tr>\n",
       "    <tr>\n",
       "      <th>...</th>\n",
       "      <td>...</td>\n",
       "    </tr>\n",
       "    <tr>\n",
       "      <th>99995</th>\n",
       "      <td>0</td>\n",
       "    </tr>\n",
       "    <tr>\n",
       "      <th>99996</th>\n",
       "      <td>0</td>\n",
       "    </tr>\n",
       "    <tr>\n",
       "      <th>99997</th>\n",
       "      <td>0</td>\n",
       "    </tr>\n",
       "    <tr>\n",
       "      <th>99998</th>\n",
       "      <td>0</td>\n",
       "    </tr>\n",
       "    <tr>\n",
       "      <th>99999</th>\n",
       "      <td>0</td>\n",
       "    </tr>\n",
       "  </tbody>\n",
       "</table>\n",
       "<p>100000 rows × 1 columns</p>\n",
       "</div>"
      ],
      "text/plain": [
       "       Diabetes\n",
       "0             0\n",
       "1             0\n",
       "2             0\n",
       "3             0\n",
       "4             0\n",
       "...         ...\n",
       "99995         0\n",
       "99996         0\n",
       "99997         0\n",
       "99998         0\n",
       "99999         0\n",
       "\n",
       "[100000 rows x 1 columns]"
      ]
     },
     "execution_count": 136,
     "metadata": {},
     "output_type": "execute_result"
    }
   ],
   "source": [
    "pd.DataFrame(y, columns = [\"Diabetes\"])"
   ]
  },
  {
   "cell_type": "markdown",
   "metadata": {},
   "source": [
    "### Encoding categorical data"
   ]
  },
  {
   "cell_type": "markdown",
   "metadata": {},
   "source": [
    "Label Encoding the \"Gender\" and \"SmokingHistory\" columns"
   ]
  },
  {
   "cell_type": "code",
   "execution_count": 137,
   "metadata": {},
   "outputs": [],
   "source": [
    "from sklearn.preprocessing import LabelEncoder\n",
    "le = LabelEncoder()\n",
    "X[:, 0] = le.fit_transform(X[:, 0])"
   ]
  },
  {
   "cell_type": "code",
   "execution_count": 138,
   "metadata": {},
   "outputs": [
    {
     "name": "stdout",
     "output_type": "stream",
     "text": [
      "[[0 80.0 0 ... 25.19 6.6 140]\n",
      " [0 54.0 0 ... 27.32 6.6 80]\n",
      " [1 28.0 0 ... 27.32 5.7 158]\n",
      " ...\n",
      " [1 66.0 0 ... 27.83 5.7 155]\n",
      " [0 24.0 0 ... 35.42 4.0 100]\n",
      " [0 57.0 0 ... 22.43 6.6 90]]\n"
     ]
    }
   ],
   "source": [
    "print(X)"
   ]
  },
  {
   "cell_type": "code",
   "execution_count": 139,
   "metadata": {},
   "outputs": [],
   "source": [
    "from sklearn.compose import ColumnTransformer\n",
    "from sklearn.preprocessing import OneHotEncoder\n",
    "ct = ColumnTransformer(transformers=[('encoder', OneHotEncoder(), [4])], remainder='passthrough')\n",
    "X = np.array(ct.fit_transform(X))"
   ]
  },
  {
   "cell_type": "code",
   "execution_count": 140,
   "metadata": {},
   "outputs": [
    {
     "name": "stdout",
     "output_type": "stream",
     "text": [
      "[[0.0 0.0 0.0 ... 25.19 6.6 140]\n",
      " [1.0 0.0 0.0 ... 27.32 6.6 80]\n",
      " [0.0 0.0 0.0 ... 27.32 5.7 158]\n",
      " ...\n",
      " [0.0 0.0 0.0 ... 27.83 5.7 155]\n",
      " [0.0 0.0 0.0 ... 35.42 4.0 100]\n",
      " [0.0 1.0 0.0 ... 22.43 6.6 90]]\n"
     ]
    }
   ],
   "source": [
    "print(X)"
   ]
  },
  {
   "cell_type": "markdown",
   "metadata": {},
   "source": [
    "### Splitting the dataset into the Training set and Test set"
   ]
  },
  {
   "cell_type": "code",
   "execution_count": 141,
   "metadata": {},
   "outputs": [],
   "source": [
    "from sklearn.model_selection import train_test_split\n",
    "X_train, X_test, y_train, y_test = train_test_split(X, y, test_size = 0.2, random_state = 0)"
   ]
  },
  {
   "cell_type": "markdown",
   "metadata": {},
   "source": [
    "### Feature Scaling\n"
   ]
  },
  {
   "cell_type": "code",
   "execution_count": 142,
   "metadata": {},
   "outputs": [],
   "source": [
    "from sklearn.preprocessing import StandardScaler\n",
    "sc = StandardScaler()\n",
    "X_train = sc.fit_transform(X_train)\n",
    "X_test = sc.transform(X_test)"
   ]
  },
  {
   "cell_type": "markdown",
   "metadata": {},
   "source": [
    "## Part 2 - Building the ANN\n"
   ]
  },
  {
   "cell_type": "markdown",
   "metadata": {},
   "source": [
    "### Initializing the ANN\n"
   ]
  },
  {
   "cell_type": "code",
   "execution_count": 143,
   "metadata": {},
   "outputs": [],
   "source": [
    "ann = tf.keras.models.Sequential()"
   ]
  },
  {
   "cell_type": "code",
   "execution_count": 144,
   "metadata": {},
   "outputs": [],
   "source": [
    "# Adding the input layer and the first hidden layer\n",
    "ann.add(tf.keras.layers.Dense(units=7, activation='linear'))\n",
    "\n",
    "# Adding the second hidden layer\n",
    "ann.add(tf.keras.layers.Dense(units=7, activation='linear'))\n",
    "\n",
    "# Adding the third hidden layer\n",
    "ann.add(tf.keras.layers.Dense(units=7, activation='linear'))\n",
    "\n",
    "# Adding the output layer\n",
    "ann.add(tf.keras.layers.Dense(units=1, activation='sigmoid'))"
   ]
  },
  {
   "cell_type": "markdown",
   "metadata": {},
   "source": [
    "## Part 3 - Training the ANN\n"
   ]
  },
  {
   "cell_type": "markdown",
   "metadata": {},
   "source": [
    "### Compiling the ANN\n"
   ]
  },
  {
   "cell_type": "code",
   "execution_count": 145,
   "metadata": {},
   "outputs": [],
   "source": [
    "ann.compile(optimizer = 'rmsprop', loss = 'binary_crossentropy', metrics = ['accuracy'])"
   ]
  },
  {
   "cell_type": "markdown",
   "metadata": {},
   "source": [
    "### Training the ANN on the Training set"
   ]
  },
  {
   "cell_type": "code",
   "execution_count": 146,
   "metadata": {},
   "outputs": [
    {
     "name": "stdout",
     "output_type": "stream",
     "text": [
      "Epoch 1/100\n",
      "2500/2500 [==============================] - 2s 787us/step - loss: 0.1407 - accuracy: 0.9517\n",
      "Epoch 2/100\n",
      "2500/2500 [==============================] - 2s 776us/step - loss: 0.1149 - accuracy: 0.9592\n",
      "Epoch 3/100\n",
      "2500/2500 [==============================] - 2s 757us/step - loss: 0.1151 - accuracy: 0.9595\n",
      "Epoch 4/100\n",
      "2500/2500 [==============================] - 2s 770us/step - loss: 0.1151 - accuracy: 0.9592\n",
      "Epoch 5/100\n",
      "2500/2500 [==============================] - 2s 875us/step - loss: 0.1151 - accuracy: 0.9594\n",
      "Epoch 6/100\n",
      "2500/2500 [==============================] - 2s 832us/step - loss: 0.1151 - accuracy: 0.9593\n",
      "Epoch 7/100\n",
      "2500/2500 [==============================] - 2s 926us/step - loss: 0.1152 - accuracy: 0.9591\n",
      "Epoch 8/100\n",
      "2500/2500 [==============================] - 2s 810us/step - loss: 0.1151 - accuracy: 0.9593\n",
      "Epoch 9/100\n",
      "2500/2500 [==============================] - 2s 834us/step - loss: 0.1153 - accuracy: 0.9591\n",
      "Epoch 10/100\n",
      "2500/2500 [==============================] - 2s 780us/step - loss: 0.1150 - accuracy: 0.9596\n",
      "Epoch 11/100\n",
      "2500/2500 [==============================] - 2s 813us/step - loss: 0.1150 - accuracy: 0.9596\n",
      "Epoch 12/100\n",
      "2500/2500 [==============================] - 2s 923us/step - loss: 0.1148 - accuracy: 0.9592\n",
      "Epoch 13/100\n",
      "2500/2500 [==============================] - 2s 825us/step - loss: 0.1151 - accuracy: 0.9591\n",
      "Epoch 14/100\n",
      "2500/2500 [==============================] - 2s 737us/step - loss: 0.1150 - accuracy: 0.9591\n",
      "Epoch 15/100\n",
      "2500/2500 [==============================] - 2s 759us/step - loss: 0.1149 - accuracy: 0.9595\n",
      "Epoch 16/100\n",
      "2500/2500 [==============================] - 2s 769us/step - loss: 0.1150 - accuracy: 0.9595\n",
      "Epoch 17/100\n",
      "2500/2500 [==============================] - 2s 742us/step - loss: 0.1150 - accuracy: 0.9594\n",
      "Epoch 18/100\n",
      "2500/2500 [==============================] - 2s 735us/step - loss: 0.1150 - accuracy: 0.9595\n",
      "Epoch 19/100\n",
      "2500/2500 [==============================] - 2s 762us/step - loss: 0.1151 - accuracy: 0.9593\n",
      "Epoch 20/100\n",
      "2500/2500 [==============================] - 2s 752us/step - loss: 0.1151 - accuracy: 0.9591\n",
      "Epoch 21/100\n",
      "2500/2500 [==============================] - 2s 804us/step - loss: 0.1151 - accuracy: 0.9596\n",
      "Epoch 22/100\n",
      "2500/2500 [==============================] - 2s 791us/step - loss: 0.1152 - accuracy: 0.9593\n",
      "Epoch 23/100\n",
      "2500/2500 [==============================] - 2s 778us/step - loss: 0.1148 - accuracy: 0.9594\n",
      "Epoch 24/100\n",
      "2500/2500 [==============================] - 2s 744us/step - loss: 0.1150 - accuracy: 0.9596\n",
      "Epoch 25/100\n",
      "2500/2500 [==============================] - 2s 811us/step - loss: 0.1148 - accuracy: 0.9594\n",
      "Epoch 26/100\n",
      "2500/2500 [==============================] - 2s 872us/step - loss: 0.1150 - accuracy: 0.9593\n",
      "Epoch 27/100\n",
      "2500/2500 [==============================] - 2s 902us/step - loss: 0.1151 - accuracy: 0.9597\n",
      "Epoch 28/100\n",
      "2500/2500 [==============================] - 2s 893us/step - loss: 0.1148 - accuracy: 0.9593\n",
      "Epoch 29/100\n",
      "2500/2500 [==============================] - 2s 832us/step - loss: 0.1148 - accuracy: 0.9597\n",
      "Epoch 30/100\n",
      "2500/2500 [==============================] - 2s 793us/step - loss: 0.1148 - accuracy: 0.9595\n",
      "Epoch 31/100\n",
      "2500/2500 [==============================] - 2s 848us/step - loss: 0.1147 - accuracy: 0.9596\n",
      "Epoch 32/100\n",
      "2500/2500 [==============================] - 2s 782us/step - loss: 0.1149 - accuracy: 0.9597\n",
      "Epoch 33/100\n",
      "2500/2500 [==============================] - 2s 824us/step - loss: 0.1148 - accuracy: 0.9595\n",
      "Epoch 34/100\n",
      "2500/2500 [==============================] - 2s 771us/step - loss: 0.1150 - accuracy: 0.9595\n",
      "Epoch 35/100\n",
      "2500/2500 [==============================] - 2s 792us/step - loss: 0.1148 - accuracy: 0.9597\n",
      "Epoch 36/100\n",
      "2500/2500 [==============================] - 2s 805us/step - loss: 0.1148 - accuracy: 0.9594\n",
      "Epoch 37/100\n",
      "2500/2500 [==============================] - 2s 769us/step - loss: 0.1150 - accuracy: 0.9592\n",
      "Epoch 38/100\n",
      "2500/2500 [==============================] - 2s 797us/step - loss: 0.1147 - accuracy: 0.9594\n",
      "Epoch 39/100\n",
      "2500/2500 [==============================] - 2s 810us/step - loss: 0.1149 - accuracy: 0.9592\n",
      "Epoch 40/100\n",
      "2500/2500 [==============================] - 2s 835us/step - loss: 0.1149 - accuracy: 0.9598\n",
      "Epoch 41/100\n",
      "2500/2500 [==============================] - 2s 808us/step - loss: 0.1148 - accuracy: 0.9596\n",
      "Epoch 42/100\n",
      "2500/2500 [==============================] - 2s 819us/step - loss: 0.1146 - accuracy: 0.9597\n",
      "Epoch 43/100\n",
      "2500/2500 [==============================] - 2s 787us/step - loss: 0.1148 - accuracy: 0.9593\n",
      "Epoch 44/100\n",
      "2500/2500 [==============================] - 2s 801us/step - loss: 0.1147 - accuracy: 0.9598\n",
      "Epoch 45/100\n",
      "2500/2500 [==============================] - 2s 852us/step - loss: 0.1147 - accuracy: 0.9598\n",
      "Epoch 46/100\n",
      "2500/2500 [==============================] - 2s 855us/step - loss: 0.1148 - accuracy: 0.9596\n",
      "Epoch 47/100\n",
      "2500/2500 [==============================] - 2s 823us/step - loss: 0.1147 - accuracy: 0.9596\n",
      "Epoch 48/100\n",
      "2500/2500 [==============================] - 2s 889us/step - loss: 0.1148 - accuracy: 0.9593\n",
      "Epoch 49/100\n",
      "2500/2500 [==============================] - 2s 810us/step - loss: 0.1148 - accuracy: 0.9595\n",
      "Epoch 50/100\n",
      "2500/2500 [==============================] - 2s 851us/step - loss: 0.1147 - accuracy: 0.9597\n",
      "Epoch 51/100\n",
      "2500/2500 [==============================] - 2s 830us/step - loss: 0.1147 - accuracy: 0.9594\n",
      "Epoch 52/100\n",
      "2500/2500 [==============================] - 2s 769us/step - loss: 0.1148 - accuracy: 0.9595\n",
      "Epoch 53/100\n",
      "2500/2500 [==============================] - 2s 847us/step - loss: 0.1148 - accuracy: 0.9595\n",
      "Epoch 54/100\n",
      "2500/2500 [==============================] - 2s 742us/step - loss: 0.1147 - accuracy: 0.9595\n",
      "Epoch 55/100\n",
      "2500/2500 [==============================] - 2s 790us/step - loss: 0.1147 - accuracy: 0.9596\n",
      "Epoch 56/100\n",
      "2500/2500 [==============================] - 2s 826us/step - loss: 0.1147 - accuracy: 0.9594\n",
      "Epoch 57/100\n",
      "2500/2500 [==============================] - 2s 739us/step - loss: 0.1147 - accuracy: 0.9595\n",
      "Epoch 58/100\n",
      "2500/2500 [==============================] - 2s 804us/step - loss: 0.1148 - accuracy: 0.9599\n",
      "Epoch 59/100\n",
      "2500/2500 [==============================] - 2s 876us/step - loss: 0.1148 - accuracy: 0.9595\n",
      "Epoch 60/100\n",
      "2500/2500 [==============================] - 2s 837us/step - loss: 0.1148 - accuracy: 0.9594\n",
      "Epoch 61/100\n",
      "2500/2500 [==============================] - 2s 796us/step - loss: 0.1146 - accuracy: 0.9594\n",
      "Epoch 62/100\n",
      "2500/2500 [==============================] - 2s 756us/step - loss: 0.1147 - accuracy: 0.9595\n",
      "Epoch 63/100\n",
      "2500/2500 [==============================] - 2s 777us/step - loss: 0.1147 - accuracy: 0.9601\n",
      "Epoch 64/100\n",
      "2500/2500 [==============================] - 2s 803us/step - loss: 0.1147 - accuracy: 0.9597\n",
      "Epoch 65/100\n",
      "2500/2500 [==============================] - 2s 769us/step - loss: 0.1146 - accuracy: 0.9592\n",
      "Epoch 66/100\n",
      "2500/2500 [==============================] - 2s 796us/step - loss: 0.1148 - accuracy: 0.9599\n",
      "Epoch 67/100\n",
      "2500/2500 [==============================] - 2s 779us/step - loss: 0.1149 - accuracy: 0.9594\n",
      "Epoch 68/100\n",
      "2500/2500 [==============================] - 2s 810us/step - loss: 0.1150 - accuracy: 0.9598\n",
      "Epoch 69/100\n",
      "2500/2500 [==============================] - 2s 763us/step - loss: 0.1147 - accuracy: 0.9597\n",
      "Epoch 70/100\n",
      "2500/2500 [==============================] - 2s 812us/step - loss: 0.1149 - accuracy: 0.9594\n",
      "Epoch 71/100\n",
      "2500/2500 [==============================] - 2s 777us/step - loss: 0.1145 - accuracy: 0.9594\n",
      "Epoch 72/100\n",
      "2500/2500 [==============================] - 2s 807us/step - loss: 0.1147 - accuracy: 0.9598\n",
      "Epoch 73/100\n",
      "2500/2500 [==============================] - 2s 746us/step - loss: 0.1149 - accuracy: 0.9599\n",
      "Epoch 74/100\n",
      "2500/2500 [==============================] - 2s 781us/step - loss: 0.1147 - accuracy: 0.9593\n",
      "Epoch 75/100\n",
      "2500/2500 [==============================] - 2s 739us/step - loss: 0.1148 - accuracy: 0.9597\n",
      "Epoch 76/100\n",
      "2500/2500 [==============================] - 2s 781us/step - loss: 0.1149 - accuracy: 0.9595\n",
      "Epoch 77/100\n",
      "2500/2500 [==============================] - 2s 765us/step - loss: 0.1149 - accuracy: 0.9599\n",
      "Epoch 78/100\n",
      "2500/2500 [==============================] - 2s 868us/step - loss: 0.1149 - accuracy: 0.9598\n",
      "Epoch 79/100\n",
      "2500/2500 [==============================] - 2s 804us/step - loss: 0.1148 - accuracy: 0.9595\n",
      "Epoch 80/100\n",
      "2500/2500 [==============================] - 2s 777us/step - loss: 0.1149 - accuracy: 0.9594\n",
      "Epoch 81/100\n",
      "2500/2500 [==============================] - 2s 732us/step - loss: 0.1149 - accuracy: 0.9593\n",
      "Epoch 82/100\n",
      "2500/2500 [==============================] - 2s 753us/step - loss: 0.1149 - accuracy: 0.9595\n",
      "Epoch 83/100\n",
      "2500/2500 [==============================] - 2s 846us/step - loss: 0.1148 - accuracy: 0.9594\n",
      "Epoch 84/100\n",
      "2500/2500 [==============================] - 2s 800us/step - loss: 0.1148 - accuracy: 0.9594\n",
      "Epoch 85/100\n",
      "2500/2500 [==============================] - 2s 829us/step - loss: 0.1146 - accuracy: 0.9596\n",
      "Epoch 86/100\n",
      "2500/2500 [==============================] - 2s 784us/step - loss: 0.1150 - accuracy: 0.9596\n",
      "Epoch 87/100\n",
      "2500/2500 [==============================] - 2s 755us/step - loss: 0.1149 - accuracy: 0.9590\n",
      "Epoch 88/100\n",
      "2500/2500 [==============================] - 2s 802us/step - loss: 0.1146 - accuracy: 0.9595\n",
      "Epoch 89/100\n",
      "2500/2500 [==============================] - 2s 789us/step - loss: 0.1148 - accuracy: 0.9596\n",
      "Epoch 90/100\n",
      "2500/2500 [==============================] - 2s 822us/step - loss: 0.1149 - accuracy: 0.9596\n",
      "Epoch 91/100\n",
      "2500/2500 [==============================] - 2s 986us/step - loss: 0.1148 - accuracy: 0.9599\n",
      "Epoch 92/100\n",
      "2500/2500 [==============================] - 2s 826us/step - loss: 0.1152 - accuracy: 0.9595\n",
      "Epoch 93/100\n",
      "2500/2500 [==============================] - 2s 777us/step - loss: 0.1149 - accuracy: 0.9594\n",
      "Epoch 94/100\n",
      "2500/2500 [==============================] - 2s 840us/step - loss: 0.1149 - accuracy: 0.9595\n",
      "Epoch 95/100\n",
      "2500/2500 [==============================] - 2s 784us/step - loss: 0.1150 - accuracy: 0.9593\n",
      "Epoch 96/100\n",
      "2500/2500 [==============================] - 2s 785us/step - loss: 0.1150 - accuracy: 0.9592\n",
      "Epoch 97/100\n",
      "2500/2500 [==============================] - 2s 763us/step - loss: 0.1152 - accuracy: 0.9595\n",
      "Epoch 98/100\n",
      "2500/2500 [==============================] - 2s 770us/step - loss: 0.1149 - accuracy: 0.9595\n",
      "Epoch 99/100\n",
      "2500/2500 [==============================] - 2s 750us/step - loss: 0.1151 - accuracy: 0.9593\n",
      "Epoch 100/100\n",
      "2500/2500 [==============================] - 2s 749us/step - loss: 0.1151 - accuracy: 0.9594\n"
     ]
    },
    {
     "data": {
      "text/plain": [
       "<keras.src.callbacks.History at 0x1a98a8bf350>"
      ]
     },
     "execution_count": 146,
     "metadata": {},
     "output_type": "execute_result"
    }
   ],
   "source": [
    "ann.fit(X_train, y_train, batch_size = 32, epochs = 100)"
   ]
  },
  {
   "cell_type": "markdown",
   "metadata": {},
   "source": [
    "## Part 4 - Making the predictions and evaluating the model"
   ]
  },
  {
   "cell_type": "markdown",
   "metadata": {},
   "source": [
    "### Predicting the Test set results"
   ]
  },
  {
   "cell_type": "code",
   "execution_count": 147,
   "metadata": {},
   "outputs": [
    {
     "name": "stdout",
     "output_type": "stream",
     "text": [
      "625/625 [==============================] - 0s 581us/step\n",
      "[[0 0]\n",
      " [0 0]\n",
      " [0 0]\n",
      " ...\n",
      " [0 0]\n",
      " [0 0]\n",
      " [0 0]]\n"
     ]
    }
   ],
   "source": [
    "y_pred = ann.predict(X_test)\n",
    "y_pred = (y_pred > 0.5)\n",
    "print(np.concatenate((y_pred.reshape(len(y_pred),1), y_test.reshape(len(y_test),1)),1))"
   ]
  },
  {
   "cell_type": "markdown",
   "metadata": {},
   "source": [
    "### Making the Confusion Matrix"
   ]
  },
  {
   "cell_type": "code",
   "execution_count": 148,
   "metadata": {},
   "outputs": [
    {
     "name": "stdout",
     "output_type": "stream",
     "text": [
      "[[18042   255]\n",
      " [  563  1140]]\n",
      "The accuracy is 0.9591\n",
      "The specificity is 0.9860632890637809\n",
      "The sensitivity is 0.6694069289489136\n"
     ]
    }
   ],
   "source": [
    "from sklearn.metrics import confusion_matrix, accuracy_score, classification_report\n",
    "import matplotlib.pyplot as plt\n",
    "conf_matrix = confusion_matrix(y_test, y_pred)\n",
    "print(conf_matrix)\n",
    "accuracy = accuracy_score(y_test, y_pred)\n",
    "\n",
    "tn, fp, fn, tp = confusion_matrix(y_test, y_pred).ravel()\n",
    "specificity = tn / (tn+fp)\n",
    "sensitivity = tp / (tp+fn)\n",
    "print(\"The accuracy is \" + str(accuracy))\n",
    "print(\"The specificity is \" + str(specificity))\n",
    "print(\"The sensitivity is \" + str(sensitivity))"
   ]
  },
  {
   "cell_type": "code",
   "execution_count": 149,
   "metadata": {},
   "outputs": [
    {
     "data": {
      "image/png": "[encoded data removed]",
      "text/plain": [
       "<Figure size 750x750 with 1 Axes>"
      ]
     },
     "metadata": {},
     "output_type": "display_data"
    }
   ],
   "source": [
    "fig, ax = plt.subplots(figsize=(7.5, 7.5))\n",
    "ax.matshow(conf_matrix, cmap=plt.cm.Blues, alpha=0.3)\n",
    "for i in range(conf_matrix.shape[0]):\n",
    "    for j in range(conf_matrix.shape[1]):\n",
    "        ax.text(x=j, y=i,s=conf_matrix[i, j], va='center', ha='center', size='xx-large')\n",
    " \n",
    "plt.xlabel('Predictions', fontsize=18)\n",
    "plt.ylabel('Actuals', fontsize=18)\n",
    "plt.title('Confusion Matrix', fontsize=18)\n",
    "plt.show()"
   ]
  }
 ],
 "metadata": {
  "kernelspec": {
   "display_name": "Python 3",
   "language": "python",
   "name": "python3"
  },
  "language_info": {
   "codemirror_mode": {
    "name": "ipython",
    "version": 3
   },
   "file_extension": ".py",
   "mimetype": "text/x-python",
   "name": "python",
   "nbconvert_exporter": "python",
   "pygments_lexer": "ipython3",
   "version": "3.11.4"
  },
  "orig_nbformat": 4
 },
 "nbformat": 4,
 "nbformat_minor": 2
}
